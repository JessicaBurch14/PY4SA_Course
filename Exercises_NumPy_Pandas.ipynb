{
 "cells": [
  {
   "cell_type": "markdown",
   "id": "22251e58-78c4-44bf-b39e-a3e7619120ee",
   "metadata": {},
   "source": [
    "# Python for Spatial Analysis\n",
    "## Second part of the module of GG3209 Spatial Analysis with GIS.\n",
    "### Notebook to practice NumPy and Pandas - Exercises\n",
    "\n",
    "---\n",
    "Dr Fernando Benitez -  University of St Andrews - School of Geography and Sustainable Development - First Iteration 2023 v.1.0 "
   ]
  },
  {
   "cell_type": "markdown",
   "id": "eaf0b951",
   "metadata": {},
   "source": [
    "# Practicing NumPy"
   ]
  },
  {
   "cell_type": "markdown",
   "id": "36aaf97a",
   "metadata": {},
   "source": [
    "## 2.0 \n",
    "Import numpy under the alias `np`."
   ]
  },
  {
   "cell_type": "code",
   "execution_count": 1,
   "id": "51aa53cd",
   "metadata": {},
   "outputs": [],
   "source": [
    "import numpy as np"
   ]
  },
  {
   "cell_type": "markdown",
   "id": "10df0fb9",
   "metadata": {},
   "source": [
    "## 2.1 \n",
    "\n",
    "Create the following arrays:\n",
    "\n",
    "* Create an array of 10 ones.\n",
    "\n",
    "* Create an array of the integers 1 to 20.\n",
    "\n",
    "* Create a 5 x 5 matrix of ones with a dtype int."
   ]
  },
  {
   "cell_type": "code",
   "execution_count": 16,
   "id": "5a1b83d1",
   "metadata": {},
   "outputs": [
    {
     "name": "stdout",
     "output_type": "stream",
     "text": [
      "[1. 1. 1. 1. 1. 1. 1. 1. 1. 1.]\n",
      "[ 1  2  3  4  5  6  7  8  9 10 11 12 13 14 15 16 17 18 19 20]\n",
      "[[1 1 1 1 1]\n",
      " [1 1 1 1 1]\n",
      " [1 1 1 1 1]\n",
      " [1 1 1 1 1]\n",
      " [1 1 1 1 1]]\n"
     ]
    }
   ],
   "source": [
    "array=np.ones(10)\n",
    "print(array)\n",
    "array2=np.arange(1,21)\n",
    "print(array2)\n",
    "array3=np.ones((5,5), dtype=\"int8\")\n",
    "print(array3)\n"
   ]
  },
  {
   "cell_type": "markdown",
   "id": "f4d5f95c",
   "metadata": {},
   "source": [
    "## 2.2 \n",
    "Use numpy to:\n",
    "1. Create an 3D matrix of 3 x 3 x 3 full of random numbers drawn from a standard normal distribution (hint: `np.random.randn()`)\n",
    "2. Reshape the above array into shape (27,)"
   ]
  },
  {
   "cell_type": "code",
   "execution_count": 20,
   "id": "ac3df66e",
   "metadata": {},
   "outputs": [
    {
     "name": "stdout",
     "output_type": "stream",
     "text": [
      "[[[0.19712106 0.82275005 0.13657237]\n",
      "  [0.88633137 0.0391402  0.13524766]\n",
      "  [0.24915003 0.80774345 0.42819003]]\n",
      "\n",
      " [[0.83277275 0.19459112 0.65194995]\n",
      "  [0.63833279 0.02748032 0.90934177]\n",
      "  [0.24196685 0.0793173  0.45837982]]\n",
      "\n",
      " [[0.5311043  0.31403962 0.16438312]\n",
      "  [0.50517946 0.66829061 0.54536273]\n",
      "  [0.44104263 0.67710178 0.59249162]]]\n",
      "[[[0.19712106 0.82275005 0.13657237]\n",
      "  [0.88633137 0.0391402  0.13524766]\n",
      "  [0.24915003 0.80774345 0.42819003]]\n",
      "\n",
      " [[0.83277275 0.19459112 0.65194995]\n",
      "  [0.63833279 0.02748032 0.90934177]\n",
      "  [0.24196685 0.0793173  0.45837982]]\n",
      "\n",
      " [[0.5311043  0.31403962 0.16438312]\n",
      "  [0.50517946 0.66829061 0.54536273]\n",
      "  [0.44104263 0.67710178 0.59249162]]]\n"
     ]
    }
   ],
   "source": [
    "array4 = np.random.random((3,3,3))\n",
    "print(array4)\n",
    "array4b=array4.reshape(27)\n",
    "print(array4)"
   ]
  },
  {
   "cell_type": "markdown",
   "id": "5bbbbc97",
   "metadata": {},
   "source": [
    "# 2.3 \n",
    "\n",
    "Create an array of 20 linearly spaced numbers between 1 and 10."
   ]
  },
  {
   "cell_type": "code",
   "execution_count": 21,
   "id": "3304c495",
   "metadata": {},
   "outputs": [
    {
     "name": "stdout",
     "output_type": "stream",
     "text": [
      "[ 1.          1.47368421  1.94736842  2.42105263  2.89473684  3.36842105\n",
      "  3.84210526  4.31578947  4.78947368  5.26315789  5.73684211  6.21052632\n",
      "  6.68421053  7.15789474  7.63157895  8.10526316  8.57894737  9.05263158\n",
      "  9.52631579 10.        ]\n"
     ]
    }
   ],
   "source": [
    "array5=np.linspace(1,10,20)\n",
    "print(array5)"
   ]
  },
  {
   "cell_type": "markdown",
   "id": "fee4622b",
   "metadata": {},
   "source": [
    "## 2.4\n",
    "\n",
    "Run the following code to create an array of shape 4 x 4 and then use indexing to produce the outputs shown below."
   ]
  },
  {
   "cell_type": "code",
   "execution_count": 11,
   "id": "ce54aa24",
   "metadata": {},
   "outputs": [
    {
     "name": "stdout",
     "output_type": "stream",
     "text": [
      "[[ 1  2  3  4  5]\n",
      " [ 6  7  8  9 10]\n",
      " [11 12 13 14 15]\n",
      " [16 17 18 19 20]\n",
      " [21 22 23 24 25]]\n"
     ]
    }
   ],
   "source": [
    "import numpy as np\n",
    "array6= np.arange(1, 26).reshape(5, -1)\n",
    "print(array6)"
   ]
  },
  {
   "cell_type": "code",
   "execution_count": 30,
   "id": "9fb30ef8",
   "metadata": {},
   "outputs": [
    {
     "name": "stdout",
     "output_type": "stream",
     "text": [
      "20\n"
     ]
    },
    {
     "data": {
      "text/plain": [
       "20"
      ]
     },
     "execution_count": 30,
     "metadata": {},
     "output_type": "execute_result"
    }
   ],
   "source": [
    "print(array6[3,4])\n"
   ]
  },
  {
   "cell_type": "code",
   "execution_count": 59,
   "id": "e752079a",
   "metadata": {},
   "outputs": [
    {
     "name": "stdout",
     "output_type": "stream",
     "text": [
      "[]\n"
     ]
    }
   ],
   "source": [
    "print(array6[:,3:0:1])"
   ]
  },
  {
   "cell_type": "markdown",
   "id": "24c2d6c3",
   "metadata": {},
   "source": [
    "```python\n",
    "array([[ 9, 10],\n",
    "       [14, 15],\n",
    "       [19, 20],\n",
    "       [24, 25]])\n",
    "```"
   ]
  },
  {
   "cell_type": "code",
   "execution_count": 36,
   "id": "d86f1c2f",
   "metadata": {},
   "outputs": [
    {
     "name": "stdout",
     "output_type": "stream",
     "text": [
      "[ 6  7  8  9 10]\n"
     ]
    }
   ],
   "source": [
    "print(array6[1])"
   ]
  },
  {
   "cell_type": "markdown",
   "id": "984bb786",
   "metadata": {},
   "source": [
    "```python\n",
    "array([ 6,  7,  8,  9, 10])\n",
    "```"
   ]
  },
  {
   "cell_type": "code",
   "execution_count": null,
   "id": "943ec85c",
   "metadata": {},
   "outputs": [],
   "source": [
    "# Code comes here"
   ]
  },
  {
   "cell_type": "markdown",
   "id": "a8e576e0",
   "metadata": {},
   "source": [
    "## 2.5 \n",
    "\n",
    "Calculate the sum of all the numbers in `a`."
   ]
  },
  {
   "cell_type": "code",
   "execution_count": 64,
   "id": "bd34b207",
   "metadata": {},
   "outputs": [
    {
     "data": {
      "text/plain": [
       "325"
      ]
     },
     "execution_count": 64,
     "metadata": {},
     "output_type": "execute_result"
    }
   ],
   "source": [
    "sum([1,2,3,4,5,6,7,8,9,10,11,12,13,14,15,16,17,18,19,20,21,22,23,24,25])"
   ]
  },
  {
   "cell_type": "markdown",
   "id": "50c3950b",
   "metadata": {},
   "source": [
    "## 2.6 \n",
    "\n",
    "Calculate the sum of each row in `a`."
   ]
  },
  {
   "cell_type": "code",
   "execution_count": 9,
   "id": "de620d7d",
   "metadata": {},
   "outputs": [
    {
     "name": "stdout",
     "output_type": "stream",
     "text": [
      "15\n",
      "40\n",
      "65\n",
      "90\n",
      "115\n"
     ]
    }
   ],
   "source": [
    "row1=np.array([1,2,3,4,5])\n",
    "print(np.sum(row1))\n",
    "row2=np.array([6,7,8,9,10])\n",
    "print(np.sum(row2))\n",
    "row3=np.array([11,12,13,14,15])\n",
    "print(np.sum(row3))\n",
    "row4=np.sum([16,17,18,19,20])\n",
    "print(np.sum(row4))\n",
    "row5=np.array([21,22,23,24,25])\n",
    "print(np.sum(row5))"
   ]
  },
  {
   "cell_type": "markdown",
   "id": "ea9b2c11",
   "metadata": {},
   "source": [
    "## 2.7 \n",
    "\n",
    "Extract all values of `a` greater than the mean of `a` (hint: use a boolean mask)."
   ]
  },
  {
   "cell_type": "code",
   "execution_count": 13,
   "id": "aef9b210",
   "metadata": {},
   "outputs": [
    {
     "name": "stdout",
     "output_type": "stream",
     "text": [
      "13.0\n",
      "[14 15 16 17 18 19 20 21 22 23 24 25]\n"
     ]
    }
   ],
   "source": [
    "print(np.mean(array6))\n",
    "#want to print all values greater than 13 \n",
    "print(array6[array6 > 13])"
   ]
  },
  {
   "cell_type": "markdown",
   "id": "9c31a0e1",
   "metadata": {},
   "source": [
    "# Practicing Pandas"
   ]
  },
  {
   "cell_type": "markdown",
   "id": "61c04b0c",
   "metadata": {},
   "source": [
    "## 2.8\n",
    "\n",
    "In this set of practice exercises we'll be investigating the carbon footprint of different foods. \n",
    "\n",
    "We'll be leveraging a dataset compiled by [Kasia Kulma](https://r-tastic.co.uk/post/from-messy-to-tidy/) and contributed to [R's Tidy Tuesday project](https://github.com/rfordatascience/tidytuesday).\n",
    "\n",
    "Start by importing pandas with the alias `pd`."
   ]
  },
  {
   "cell_type": "code",
   "execution_count": 14,
   "id": "8b9ede0d",
   "metadata": {},
   "outputs": [],
   "source": [
    "import pandas as pd"
   ]
  },
  {
   "cell_type": "markdown",
   "id": "3d39a2d7",
   "metadata": {},
   "source": [
    "## 2.9 \n",
    "\n",
    "The dataset we'll be working with has the following columns:\n",
    "\n",
    "|column      |description |\n",
    "|:-------------|:-----------|\n",
    "|country       | Country Name |\n",
    "|food_category | Food Category |\n",
    "|consumption   | Consumption (kg/person/year) |\n",
    "|co2_emmission | Co2 Emission (Kg CO2/person/year) |\n",
    "\n",
    "\n",
    "Import the dataset as a dataframe named `df` from this url: <https://raw.githubusercontent.com/rfordatascience/tidytuesday/master/data/2020/2020-02-18/food_consumption.csv>"
   ]
  },
  {
   "cell_type": "code",
   "execution_count": 15,
   "id": "b39d8ebb",
   "metadata": {},
   "outputs": [],
   "source": [
    "df=pd.read_csv(\"data/food_consumption.csv\", sep=\",\", header=0, encoding=\"ISO-8859-1\")"
   ]
  },
  {
   "cell_type": "markdown",
   "id": "f903c8a1",
   "metadata": {},
   "source": [
    "## 2.10 \n",
    "\n",
    "How many rows and columns are there in the dataframe?"
   ]
  },
  {
   "cell_type": "code",
   "execution_count": 16,
   "id": "39cd4f89",
   "metadata": {},
   "outputs": [
    {
     "name": "stdout",
     "output_type": "stream",
     "text": [
      "1430\n",
      "4\n"
     ]
    }
   ],
   "source": [
    "print(len(df))\n",
    "print(len(df.columns))"
   ]
  },
  {
   "cell_type": "markdown",
   "id": "8f0b87b0",
   "metadata": {},
   "source": [
    "## 2.11\n",
    "\n",
    "What is the mean `co2_emission` of the whole dataset?"
   ]
  },
  {
   "cell_type": "code",
   "execution_count": 17,
   "id": "8a8b3edc",
   "metadata": {},
   "outputs": [
    {
     "name": "stdout",
     "output_type": "stream",
     "text": [
      "74.383993006993\n"
     ]
    }
   ],
   "source": [
    "df2=df[\"co2_emmission\"].mean()\n",
    "print(df2)\n"
   ]
  },
  {
   "cell_type": "markdown",
   "id": "1acb3cc5",
   "metadata": {},
   "source": [
    "## 2.12\n",
    "\n",
    "What is the maximum `co2_emmission` in the dataset and which food type and country does it belong to?"
   ]
  },
  {
   "cell_type": "code",
   "execution_count": 23,
   "id": "04f58ddd",
   "metadata": {},
   "outputs": [
    {
     "name": "stdout",
     "output_type": "stream",
     "text": [
      "1712.0\n",
      "0       NaN\n",
      "1       NaN\n",
      "2       NaN\n",
      "3       NaN\n",
      "4       NaN\n",
      "       ... \n",
      "1425    NaN\n",
      "1426    NaN\n",
      "1427    NaN\n",
      "1428    NaN\n",
      "1429    NaN\n",
      "Name: Max, Length: 1430, dtype: object\n"
     ]
    }
   ],
   "source": [
    "df3=df[\"co2_emmission\"].max()\n",
    "print(df3)\n",
    "df[\"Max\"] = df.groupby(\"food_category\")['food_category'].max()\n",
    "print(df[\"Max\"])"
   ]
  },
  {
   "cell_type": "markdown",
   "id": "68ba75e4",
   "metadata": {},
   "source": [
    "## 2.13\n",
    "\n",
    "How many countries produce more than 1000 Kg CO2/person/year for at least one food type?"
   ]
  },
  {
   "cell_type": "code",
   "execution_count": 27,
   "id": "0dac7b68",
   "metadata": {},
   "outputs": [
    {
     "name": "stdout",
     "output_type": "stream",
     "text": [
      "       country food_category  consumption  co2_emmission  Max\n",
      "2    Argentina          Beef        55.48        1712.00  NaN\n",
      "13   Australia          Beef        33.86        1044.85  NaN\n",
      "57         USA          Beef        36.24        1118.29  NaN\n",
      "90      Brazil          Beef        39.25        1211.17  NaN\n",
      "123    Bermuda          Beef        33.15        1022.94  NaN\n"
     ]
    }
   ],
   "source": [
    "df2 = df.query('co2_emmission > 1000')\n",
    "print(df2)\n",
    "#5 countries "
   ]
  },
  {
   "cell_type": "markdown",
   "id": "507fe1cd",
   "metadata": {},
   "source": [
    "## 2.14\n",
    "\n",
    "Which country consumes the least amount of beef per person per year?\n"
   ]
  },
  {
   "cell_type": "code",
   "execution_count": 35,
   "id": "e4bf7f60",
   "metadata": {},
   "outputs": [
    {
     "name": "stdout",
     "output_type": "stream",
     "text": [
      "           country food_category  consumption  co2_emmission  Max  \\\n",
      "2        Argentina          Beef        55.48        1712.00  NaN   \n",
      "13       Australia          Beef        33.86        1044.85  NaN   \n",
      "24         Albania          Beef        22.50         694.30  NaN   \n",
      "35         Iceland          Beef        13.36         412.26  NaN   \n",
      "46     New Zealand          Beef        22.49         693.99  NaN   \n",
      "...            ...           ...          ...            ...  ...   \n",
      "1377  Sierra Leone          Beef         1.99          61.41  NaN   \n",
      "1388     Sri Lanka          Beef         1.38          42.58  NaN   \n",
      "1399     Indonesia          Beef         2.59          79.92  NaN   \n",
      "1410       Liberia          Beef         0.78          24.07  NaN   \n",
      "1421    Bangladesh          Beef         1.28          39.50  NaN   \n",
      "\n",
      "                          Min  \n",
      "2     Nuts inc. Peanut Butter  \n",
      "13                       Pork  \n",
      "24                        NaN  \n",
      "35                       Pork  \n",
      "46                        NaN  \n",
      "...                       ...  \n",
      "1377                      NaN  \n",
      "1388                      NaN  \n",
      "1399                      NaN  \n",
      "1410                      NaN  \n",
      "1421                      NaN  \n",
      "\n",
      "[130 rows x 6 columns]\n"
     ]
    }
   ],
   "source": [
    "beefdf = df.query('food_category==\"Beef\"')\n",
    "print(beefdf)\n",
    "#Liberia "
   ]
  },
  {
   "cell_type": "markdown",
   "id": "e40cbc79",
   "metadata": {},
   "source": [
    "## 2.15\n",
    "\n",
    "What is the total emissions of all the meat products (Pork, Poultry, Fish, Lamb & Goat, Beef) in the dataset combined?"
   ]
  },
  {
   "cell_type": "code",
   "execution_count": 61,
   "id": "932f7976",
   "metadata": {},
   "outputs": [
    {
     "name": "stdout",
     "output_type": "stream",
     "text": [
      "           country food_category  consumption  co2_emmission  Max          Min\n",
      "0        Argentina          Pork        10.51          37.20  NaN  Lamb & Goat\n",
      "11       Australia          Pork        24.14          85.44  NaN          NaN\n",
      "22         Albania          Pork        10.88          38.51  NaN          NaN\n",
      "33         Iceland          Pork        21.69          76.77  NaN          NaN\n",
      "44     New Zealand          Pork        22.29          78.90  NaN          NaN\n",
      "...            ...           ...          ...            ...  ...          ...\n",
      "1375  Sierra Leone          Pork         1.22           4.32  NaN          NaN\n",
      "1386     Sri Lanka          Pork         0.05           0.18  NaN          NaN\n",
      "1397     Indonesia          Pork         2.98          10.55  NaN          NaN\n",
      "1408       Liberia          Pork         4.01          14.19  NaN          NaN\n",
      "1419    Bangladesh          Pork         0.00           0.00  NaN          NaN\n",
      "\n",
      "[130 rows x 6 columns]\n",
      "           country food_category  consumption  co2_emmission  Max          Min\n",
      "1        Argentina       Poultry        38.66          41.53  NaN  Lamb & Goat\n",
      "12       Australia       Poultry        46.12          49.54  NaN          NaN\n",
      "23         Albania       Poultry        13.23          14.21  NaN          NaN\n",
      "34         Iceland       Poultry        26.87          28.86  NaN          NaN\n",
      "45     New Zealand       Poultry        34.98          37.58  NaN      Poultry\n",
      "...            ...           ...          ...            ...  ...          ...\n",
      "1376  Sierra Leone       Poultry         4.97           5.34  NaN          NaN\n",
      "1387     Sri Lanka       Poultry         4.96           5.33  NaN          NaN\n",
      "1398     Indonesia       Poultry         7.50           8.06  NaN          NaN\n",
      "1409       Liberia       Poultry         8.91           9.57  NaN          NaN\n",
      "1420    Bangladesh       Poultry         1.40           1.50  NaN          NaN\n",
      "\n",
      "[130 rows x 6 columns]\n"
     ]
    }
   ],
   "source": [
    "just_pork = df[df[\"food_category\"]== \"Pork\"]\n",
    "print(just_pork)\n",
    "just_poultry = df[df[\"food_category\"]== \"Poultry\"]\n",
    "print(just_poultry)\n",
    "just_fish = df[df[\"food_category\"]== \"Fish\"]\n",
    "just_lambgoat = df[df[\"food_category\"]== \"Lamb & Goat\"]\n",
    "just_beef = df[df[\"food_category\"]== \"Beef\"]"
   ]
  },
  {
   "cell_type": "markdown",
   "id": "2e01f760",
   "metadata": {},
   "source": [
    "# 2.16 \n",
    "\n",
    "What is the total emissions of all other (non-meat) products in the dataset combined?"
   ]
  },
  {
   "cell_type": "code",
   "execution_count": null,
   "id": "6d0c8ac4",
   "metadata": {},
   "outputs": [],
   "source": [
    "# code comes here"
   ]
  },
  {
   "cell_type": "markdown",
   "id": "24d092f5",
   "metadata": {},
   "source": [
    "## Well done!\n",
    "\n",
    "That's all from this week, if you have any questions, do not forget to ask the TAs for assistance."
   ]
  }
 ],
 "metadata": {
  "kernelspec": {
   "display_name": "Python 3 (ipykernel)",
   "language": "python",
   "name": "python3"
  },
  "language_info": {
   "codemirror_mode": {
    "name": "ipython",
    "version": 3
   },
   "file_extension": ".py",
   "mimetype": "text/x-python",
   "name": "python",
   "nbconvert_exporter": "python",
   "pygments_lexer": "ipython3",
   "version": "3.10.9"
  },
  "vscode": {
   "interpreter": {
    "hash": "a6ff75c9eea1cc423693f453c5146b58e101d0acaa5aa6cb29950423ef44ea78"
   }
  }
 },
 "nbformat": 4,
 "nbformat_minor": 5
}
